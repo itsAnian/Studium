{
 "cells": [
  {
   "cell_type": "markdown",
   "metadata": {},
   "source": [
    "# 1. My First Project"
   ]
  },
  {
   "cell_type": "markdown",
   "metadata": {},
   "source": [
    "> \\\n",
    "In Python werden Codezeilen **nicht** mit `;` beendet\\\n",
    "Mithilfe der `print()` Funktion können Werte ausgegeben werden\\\n",
    "\\\n",
    "➔ Das folgende Programm gibt *Hello World* auf die Konsole aus:\\\n",
    "&nbsp;\n",
    " "
   ]
  },
  {
   "cell_type": "code",
   "execution_count": 16,
   "metadata": {},
   "outputs": [
    {
     "name": "stdout",
     "output_type": "stream",
     "text": [
      "Hello World\n",
      "Hello World\n"
     ]
    }
   ],
   "source": [
    "# Dieser Befehl gehört nicht zur Python sondern zu Jupyter Notebook\n",
    "%reset -f\n",
    "\n",
    "print(\"Hello World\" * 4)\n",
    "print(\"Hello World\")"
   ]
  },
  {
   "cell_type": "markdown",
   "metadata": {},
   "source": [
    "# 2. Variablen"
   ]
  },
  {
   "cell_type": "markdown",
   "metadata": {},
   "source": [
    "> \\\n",
    "Datentypen werden nicht explizit angegeben sonder dynamisch bestimmt\\\n",
    "Diese Eigenschaft in Programmiersprachen wird als *Dynamically typed* bezeichnet\\\n",
    "\\\n",
    "Mithilfe der `type(x)` Funktion kann der Typ einer Variable `x` bestimmt werden\\\n",
    "&nbsp;"
   ]
  },
  {
   "cell_type": "code",
   "execution_count": 14,
   "metadata": {},
   "outputs": [
    {
     "name": "stdout",
     "output_type": "stream",
     "text": [
      "True\n"
     ]
    }
   ],
   "source": [
    "%reset -f\n",
    "\n",
    "# Integer\n",
    "x = 42\n",
    "\n",
    "# String\n",
    "y = \"DHBW Heidenheim\"\n",
    "\n",
    "# Boolean\n",
    "z = True\n",
    "\n",
    "# === GEBEN SIE DEN WERT DER VARIABLEN SOWIE DEREN TYP AUS ===\n",
    "print(z)"
   ]
  },
  {
   "cell_type": "markdown",
   "metadata": {},
   "source": []
  },
  {
   "cell_type": "markdown",
   "metadata": {},
   "source": [
    "***\n",
    "&nbsp;\n",
    "&nbsp;\n",
    "&nbsp;\n",
    "\n",
    "> \\\n",
    "Der Typ einer Variable kann sich zur Laufzeit ändern\\\n",
    "&nbsp;"
   ]
  },
  {
   "cell_type": "code",
   "execution_count": null,
   "metadata": {},
   "outputs": [],
   "source": [
    "%reset -f\n",
    "\n",
    "# Integer\n",
    "x = 42\n",
    "\n",
    "# === GEBEN SIE DEN WERT DER VARIABLEN X SOWIE DEREN TYP AUS ===\n",
    "\n",
    "\n",
    "# String\n",
    "x = \"DHBW Heidenheim\"\n",
    "\n",
    "# === GEBEN SIE DEN ERNEUT WERT DER VARIABLEN X SOWIE DEREN TYP AUS ===\n"
   ]
  },
  {
   "cell_type": "markdown",
   "metadata": {},
   "source": [
    "***\n",
    "&nbsp;\n",
    "&nbsp;\n",
    "&nbsp;\n",
    "\n",
    "> \\\n",
    "In bestimmten Situationen möchten wir aber den Typ einer Variable explizit ändern.\\\n",
    "Hier kommen **Cast-Operationen** ins Spiel.\\\n",
    "&nbsp;"
   ]
  },
  {
   "cell_type": "code",
   "execution_count": null,
   "metadata": {},
   "outputs": [],
   "source": [
    "%reset -f\n",
    "\n",
    "# Integer 42\n",
    "x = 42\n",
    "print(type(x))\n",
    "\n",
    "# Cast von Integer 42 zu String \"42\"\n",
    "y = str(x)\n",
    "print(type(y))"
   ]
  },
  {
   "cell_type": "markdown",
   "metadata": {},
   "source": [
    "\n",
    "> \\\n",
    "Eine solche Situation ist beispielsweise das Einlesen von Werten\\\n",
    "Hierfür kann in Python die `input()` Funktion verwendet werden\\\n",
    "Diese liest Werte aber immer als Typ `str` ein\\\n",
    "&nbsp;"
   ]
  },
  {
   "cell_type": "code",
   "execution_count": null,
   "metadata": {},
   "outputs": [],
   "source": [
    "%reset -f\n",
    "\n",
    "input = input()\n",
    "print(type(input))\n",
    "\n",
    "# === CASTEN SIE DIE VARIABLE INPUT IN EINEN INTEGER ==="
   ]
  },
  {
   "cell_type": "markdown",
   "metadata": {},
   "source": [
    "***\n",
    "&nbsp;\n",
    "&nbsp;\n",
    "&nbsp;\n",
    "\n",
    "> \\\n",
    "Es ist nicht ungewöhnlich das Funktion auch kein Ergebnis liefern können oder sollen.\\\n",
    "Für solche Fälle gibt es `None` sowie den dazugehörigen Typ `NoneType`. \\\n",
    "`None` wird verwendet, um die Abwesenheit eines Wertes zu zeigen\\\n",
    "\\\n",
    "In anderen Programmiersprachen werden ähnliche Konzepte oft mit *Null* abgebildet\\\n",
    "&nbsp;"
   ]
  },
  {
   "cell_type": "code",
   "execution_count": null,
   "metadata": {},
   "outputs": [],
   "source": [
    "%reset -f\n",
    "\n",
    "# Die Print Funktion soll nur Daten ausgeben aber nichts zurückliefern\n",
    "result = print(\"Hello World\")\n",
    "print(result)"
   ]
  },
  {
   "cell_type": "markdown",
   "metadata": {},
   "source": [
    "# 3. Operatoren\n"
   ]
  },
  {
   "cell_type": "markdown",
   "metadata": {},
   "source": [
    "> \\\n",
    "[Liste der Python Operatoren](https://www.w3schools.com/python/python_operators.asp)\\\n",
    "\\\n",
    "Obwohl Python *Dynamically typed* ist werden zur Laufzeit trotzdem Typüberprüfungen durchgeführt\\\n",
    "So können einige Operationen nicht auf unverträglichen Typen durchgeführt werden\\\n",
    "\\\n",
    "❗ Der folgende Code ist ein solches Beispiel und wirft einen `TypeError`:\\\n",
    "&nbsp;"
   ]
  },
  {
   "cell_type": "code",
   "execution_count": null,
   "metadata": {},
   "outputs": [],
   "source": [
    "%reset -f\n",
    "\n",
    "zahl = 42\n",
    "text = \"Hallo\"\n",
    "\n",
    "ergebnis = zahl + text  # Dies führt zu einem TypeError"
   ]
  },
  {
   "cell_type": "markdown",
   "metadata": {},
   "source": [
    "***\n",
    "&nbsp;\n",
    "&nbsp;\n",
    "&nbsp;\n",
    "\n",
    "> \\\n",
    "> In Python haben **Logische Operatoren** eine andere Syntax als in vielen populären Programmiersprachen\n",
    ">\n",
    "> |                           | Logisches Und | Logisches Oder    | Invertierung  |\n",
    "> |---------------------------|---------------|-------------------|---------------|\n",
    "> |Python                     | `and`         | `or`              | `not`         |\n",
    "> |C#, Java ,JavaScript, uvm.   | `&&`          | `\\|\\|`             | `!`          |\n",
    ">\n",
    "> &nbsp;\n"
   ]
  },
  {
   "cell_type": "code",
   "execution_count": null,
   "metadata": {},
   "outputs": [],
   "source": [
    "%reset -f\n",
    "\n",
    "print(True and True)\n",
    "print(True and False)\n",
    "print(False and True)\n",
    "print(False and False)\n",
    "\n",
    "print()\n",
    "\n",
    "# === GEBEN SIE DIE WARHEITSTABELLEN FÜR DIE OPERATOREN OR AND NOT AUS ==="
   ]
  },
  {
   "cell_type": "markdown",
   "metadata": {},
   "source": [
    "***\n",
    "&nbsp;\n",
    "&nbsp;\n",
    "&nbsp;\n",
    "\n",
    ">\\\n",
    ">**Identitätsoperatoren** prüfen ob zwei Objekte tatsächlich dasselbe Objekt (dasselbe im Speicher) sind\\\n",
    ">`is` und `is not`\n",
    ">>⚠ **_Hinweis:_**  Die Operatoren `is` und `==` sind unterschiedlich.\\\n",
    ">>`is` vergleicht ob zwei Objekte dasselbe (im Speicher) sind\\\n",
    ">>`==` vergleicht ob der Wert der Objekte identisch ist"
   ]
  },
  {
   "cell_type": "code",
   "execution_count": null,
   "metadata": {},
   "outputs": [],
   "source": [
    "%reset -f\n",
    "\n",
    "a = 1234\n",
    "b = 1234\n",
    "c = a\n",
    "\n",
    "print(a is c)\n",
    "print(a is b)\n",
    "print(b is not c)"
   ]
  },
  {
   "cell_type": "markdown",
   "metadata": {},
   "source": [
    "***\n",
    "&nbsp;\n",
    "&nbsp;\n",
    "&nbsp;\n",
    "\n",
    "> \\\n",
    ">❗ Im folgenden Beispiel wird ein `is` Operator falsch eingesetzt. \\\n",
    ">Er sollte **nicht** zum Vergleich von Werten eingesetzt werden \\\n",
    ">&nbsp;"
   ]
  },
  {
   "cell_type": "code",
   "execution_count": null,
   "metadata": {},
   "outputs": [],
   "source": [
    "%reset -f\n",
    "\n",
    "x = 1000\n",
    "y = 1000\n",
    "print(x == y)\n",
    "print(y is x)"
   ]
  },
  {
   "cell_type": "markdown",
   "metadata": {},
   "source": [
    "***\n",
    "&nbsp;\n",
    "&nbsp;\n",
    "&nbsp;\n",
    "\n",
    ">#### 📋 Aufgabe:\n",
    "> Schreiben Sie ein Programm das eine Benutzereingabe einliest und prüft ob es sich um ein Schaltjahr handelt\\\n",
    ">\\\n",
    ">**Ein Jahr ist ein Schaltjahr, wenn es den folgenden Bedingungen entspricht:**\\\n",
    ">Teilbarkeit durch 4: Ein Jahr muss durch 4 teilbar sein, um ein Schaltjahr zu sein.\\\n",
    ">Ausnahme: Teilbarkeit durch 100: Wenn ein Jahr durch 100 teilbar ist, ist es kein Schaltjahr, es sei denn, es erfüllt auch die nächste Bedingung.\\\n",
    ">Teilbarkeit durch 400: Wenn ein Jahr durch 400 teilbar ist, ist es trotz der Teilbarkeit durch 100 ein Schaltjahr.\\\n",
    ">\\\n",
    "> 2000 und 2020 sind Schaltjahre. 1900 und 2022 sind keine Schaltjahre.\\\n",
    ">\\\n",
    ">**Tipp:**\\\n",
    ">Der Modulo-Operator `%` berechnet den Rest der Division zwischen zwei Zahlen. Ist der Rest 0 so ist der  Dividend durch den Divisor restlos teilbar.\n",
    ">&nbsp;"
   ]
  },
  {
   "cell_type": "code",
   "execution_count": null,
   "metadata": {},
   "outputs": [],
   "source": [
    "%reset -f\n",
    "\n",
    "#=== LÖSEN SIE DIE OBIGE AUFGABE HIER ==="
   ]
  },
  {
   "cell_type": "markdown",
   "metadata": {},
   "source": [
    "# 4. List\n"
   ]
  },
  {
   "cell_type": "markdown",
   "metadata": {},
   "source": [
    "> \\\n",
    ">⚠ **_Hinweis:_** Python hat kein *Array* als *built-in* Datenstruktur.\\\n",
    "Listen werden deswegen oft ähnlich wie Arrays aus anderen Programmiersprachen verwendet.\\\n",
    "> \\\n",
    "> Mithilfe der `len(x)` Funktion kann die Anzahl von Elementen in einer Liste `x` bestimmt werden\\\n",
    "&nbsp;"
   ]
  },
  {
   "cell_type": "code",
   "execution_count": null,
   "metadata": {},
   "outputs": [],
   "source": [
    "%reset -f\n",
    "\n",
    "fruits = [\"apple\", \"banana\", \"cherry\"]\n",
    "\n",
    "# Indizierung startet bei 0\n",
    "print(fruits[0])\n",
    "print(fruits[2])\n",
    "\n",
    "print(len(fruits))"
   ]
  },
  {
   "cell_type": "code",
   "execution_count": null,
   "metadata": {},
   "outputs": [],
   "source": [
    "%reset -f\n",
    "\n",
    "fruits = [\"apple\", \"banana\", \"cherry\"]\n",
    "\n",
    "fruits.append(\"peach\")\n",
    "fruits.remove(\"apple\")\n",
    "\n",
    "print(fruits)"
   ]
  },
  {
   "cell_type": "code",
   "execution_count": null,
   "metadata": {},
   "outputs": [],
   "source": [
    "%reset -f\n",
    "\n",
    "fruits = [\"apple\", \"banana\", \"cherry\"]\n",
    "\n",
    "fruits.append(\"peach\")\n",
    "fruits.append(\"peach\")\n",
    "\n",
    "print(fruits.count(\"peach\"))"
   ]
  },
  {
   "cell_type": "markdown",
   "metadata": {},
   "source": [
    "# 5. Schleifen"
   ]
  },
  {
   "cell_type": "markdown",
   "metadata": {},
   "source": [
    ">\\\n",
    "`continue` bricht die aktuelle Iteration ab\\\n",
    "`break` bricht die gesamte Schleife ab\\\n",
    "&nbsp;"
   ]
  },
  {
   "cell_type": "code",
   "execution_count": null,
   "metadata": {},
   "outputs": [],
   "source": [
    "%reset -f\n",
    "\n",
    "i = 0\n",
    "while i < 10:\n",
    "    i += 1\n",
    "\n",
    "    if i == 2:\n",
    "        continue\n",
    "\n",
    "    if i == 8:\n",
    "        break\n",
    "\n",
    "    print(i)"
   ]
  },
  {
   "cell_type": "markdown",
   "metadata": {},
   "source": [
    "***\n",
    "&nbsp;\n",
    "&nbsp;\n",
    "&nbsp;\n",
    "\n",
    ">\\\n",
    "Eine `for` Schleife kann in Kombination mit einem Mitgliedsoperator über eine Liste iterieren\\\n",
    "\\\n",
    "Mithilfe der `range` Funktion kann auch eine \"zählende\" `for` Schleife realisiert werden\\\n",
    "&nbsp;"
   ]
  },
  {
   "cell_type": "code",
   "execution_count": null,
   "metadata": {},
   "outputs": [],
   "source": [
    "%reset -f\n",
    "\n",
    "# Iteration über Einträge einer Liste\n",
    "fruits = [\"apple\", \"banana\", \"cherry\"]\n",
    "for fruit in fruits:\n",
    "  print(fruit)\n",
    "\n",
    "print()\n",
    "\n",
    "# Numerisches Zählen mit Range\n",
    "for x in range(2, 6, 1):\n",
    "  print(x)"
   ]
  },
  {
   "cell_type": "markdown",
   "metadata": {},
   "source": [
    "***\n",
    "&nbsp;\n",
    "&nbsp;\n",
    "&nbsp;\n",
    "\n",
    ">#### 📋 Aufgabe:\n",
    "> Schreiben Sie ein Programm geraden das alle Zahlen bis zur Zahl 100 aufsummiert \\\n",
    "&nbsp;"
   ]
  },
  {
   "cell_type": "code",
   "execution_count": null,
   "metadata": {},
   "outputs": [],
   "source": [
    "%reset -f\n",
    "\n",
    "#=== LÖSEN SIE DIE OBIGE AUFGABE HIER ==="
   ]
  },
  {
   "cell_type": "markdown",
   "metadata": {},
   "source": [
    "# 6. Funktionen"
   ]
  },
  {
   "cell_type": "code",
   "execution_count": null,
   "metadata": {},
   "outputs": [],
   "source": [
    "%reset -f\n",
    "\n",
    "def add(x, y):\n",
    "    sum = x + y\n",
    "    return sum\n",
    "\n",
    "result = add(2,5)\n",
    "result = add(y=2, x=5)\n",
    "\n",
    "print(result)"
   ]
  },
  {
   "cell_type": "markdown",
   "metadata": {},
   "source": [
    "***\n",
    "&nbsp;\n",
    "&nbsp;\n",
    "&nbsp;\n",
    "\n",
    ">\\\n",
    "Funktionen müssen definiert werden **bevor** diese aufgerufen werden.\n",
    "Wenn nicht wird ein Fehler ausgelöst:\\\n",
    "&nbsp;"
   ]
  },
  {
   "cell_type": "code",
   "execution_count": null,
   "metadata": {},
   "outputs": [],
   "source": [
    "%reset -f\n",
    "\n",
    "result = add(2,5)\n",
    "\n",
    "def add(x, y):\n",
    "    sum = x + y\n",
    "    return sum"
   ]
  },
  {
   "cell_type": "markdown",
   "metadata": {},
   "source": [
    "***\n",
    "&nbsp;\n",
    "&nbsp;\n",
    "&nbsp;\n",
    "\n",
    ">#### 📋 Aufgabe:\n",
    "> Schreiben sie eine Funktion `countVowel` die alle Vokale in einem String zählt und geben sie die Anzahl zurück\\\n",
    "&nbsp;"
   ]
  },
  {
   "cell_type": "code",
   "execution_count": null,
   "metadata": {},
   "outputs": [],
   "source": [
    "%reset -f\n",
    "\n",
    "#=== LÖSEN SIE DIE OBIGE AUFGABE HIER ==="
   ]
  },
  {
   "cell_type": "markdown",
   "metadata": {},
   "source": [
    "# 7. Aufgaben"
   ]
  },
  {
   "cell_type": "markdown",
   "metadata": {},
   "source": [
    ">#### 📋 Aufgabe Taschenrechner:\n",
    ">Entwickeln Sie einen einfachen Taschenrechner, der zwei Zahlen vom Benutzer sowie eine der vier Grundrechenarten (Addition, Subtraktion, Multiplikation, Division) einliest, die Rechnung durchführt und das Ergebnis ausgibt.\\\n",
    "&nbsp;"
   ]
  },
  {
   "cell_type": "code",
   "execution_count": null,
   "metadata": {},
   "outputs": [],
   "source": [
    "%reset -f\n",
    "\n",
    "#=== LÖSEN SIE DIE OBIGE AUFGABE HIER ==="
   ]
  },
  {
   "cell_type": "markdown",
   "metadata": {},
   "source": [
    "***\n",
    "&nbsp;\n",
    "&nbsp;\n",
    "&nbsp;\n",
    "\n",
    ">#### 📋 Aufgabe Temperatur:\n",
    "> Schreiben Sie ein Programm, das die Temperatur von Celsius in Fahrenheit oder umgekehrt umrechnet. Der Benutzer sollte die Option haben, die Eingabeart (Celsius oder Fahrenheit) und die Temperatur einzugeben.\\\n",
    "\\\n",
    "°C = (°F - 32) * 5/9 (von Fahrenheit in Celsius)\\\n",
    "°F = °C * 1,8 + 32 (von Celsius nach Fahrenheit)\\\n",
    "&nbsp;\n"
   ]
  },
  {
   "cell_type": "code",
   "execution_count": null,
   "metadata": {},
   "outputs": [],
   "source": [
    "%reset -f\n",
    "\n",
    "#=== LÖSEN SIE DIE OBIGE AUFGABE HIER ==="
   ]
  },
  {
   "cell_type": "markdown",
   "metadata": {},
   "source": [
    "***\n",
    "&nbsp;\n",
    "&nbsp;\n",
    "&nbsp;\n",
    "\n",
    ">#### 📋 Aufgabe Palindrom:\n",
    "> Schreiben Sie eine Funktion die prüft, ob ein String ein Palindrom ist \\\n",
    "Ein Palindrom ist ein Text, der vorwärts und rückwärts gelesen dasselbe ergibt\\\n",
    "Wenden Sie diese Funktion auf die Liste `words` an\\\n",
    "&nbsp;"
   ]
  },
  {
   "cell_type": "code",
   "execution_count": null,
   "metadata": {},
   "outputs": [],
   "source": [
    "%reset -f\n",
    "\n",
    "words = [\"lagerregal\", \"python\", \"dhbw\", \"anna\", \"rentner\", \"regal\"]\n",
    "\n",
    "#=== LÖSEN SIE DIE OBIGE AUFGABE HIER ==="
   ]
  },
  {
   "cell_type": "markdown",
   "metadata": {},
   "source": [
    "***\n",
    "&nbsp;\n",
    "&nbsp;\n",
    "&nbsp;\n",
    "\n",
    ">#### 📋 Aufgabe Ratespiel:\n",
    ">Schreibe ein Python-Programm, das eine Zufallszahl zwischen 1 und 100 generiert.\\\n",
    " Der Benutzer soll dann die Möglichkeit haben, die Zahl zu erraten. Das Programm sollte den Benutzer über die Korrektheit seines Versuches informieren und ihm bei Bedarf Hinweise geben, ob die gesuchte Zahl größer oder kleiner ist. \\\n",
    "&nbsp;"
   ]
  },
  {
   "cell_type": "code",
   "execution_count": null,
   "metadata": {},
   "outputs": [],
   "source": [
    "%reset -f\n",
    "import random\n",
    "\n",
    "randomNumber = random.randint(1,100)\n",
    "\n",
    "#=== LÖSEN SIE DIE OBIGE AUFGABE HIER ==="
   ]
  },
  {
   "cell_type": "markdown",
   "metadata": {},
   "source": [
    "***\n",
    "&nbsp;\n",
    "&nbsp;\n",
    "&nbsp;\n",
    "\n",
    ">#### 📋 Aufgabe Hangman:\n",
    ">Implementieren Sie das Spiel \"Hangman\" (Galgenmännchen).\\\n",
    "Wählen Sie zufällig ein Wort aus der Liste uns lassen Sie den Benutzer raten.\\\n",
    "Die Groß- und Kleinschreibung soll hierbei **keine** Rolle spielen.\\\n",
    "Nach 5 Fehlversuchen ist das Spiel vorbei\\\n",
    "&nbsp;"
   ]
  },
  {
   "cell_type": "code",
   "execution_count": null,
   "metadata": {},
   "outputs": [],
   "source": [
    "%reset -f\n",
    "import random\n",
    "\n",
    "words = [\n",
    "    \"Apfel\", \"Banane\", \"Kirsche\", \"Orange\", \"Erdbeere\",\n",
    "    \"Hund\", \"Katze\", \"Pferd\", \"Elefant\", \"Giraffe\",\n",
    "    \"Haus\", \"Auto\", \"Flugzeug\", \"Boot\", \"Fahrrad\",\n",
    "    \"Computer\", \"Smartphone\", \"Tablet\", \"Laptop\", \"Drucker\",\n",
    "    \"Buch\", \"Zeitung\", \"Schule\", \"Universitaet\", \"Lehrer\",\n",
    "    \"Musik\", \"Film\", \"Kunst\", \"Sport\", \"Reisen\"\n",
    "]\n"
   ]
  }
 ],
 "metadata": {
  "kernelspec": {
   "display_name": "Python 3",
   "language": "python",
   "name": "python3"
  },
  "language_info": {
   "codemirror_mode": {
    "name": "ipython",
    "version": 3
   },
   "file_extension": ".py",
   "mimetype": "text/x-python",
   "name": "python",
   "nbconvert_exporter": "python",
   "pygments_lexer": "ipython3",
   "version": "3.10.12"
  }
 },
 "nbformat": 4,
 "nbformat_minor": 2
}
